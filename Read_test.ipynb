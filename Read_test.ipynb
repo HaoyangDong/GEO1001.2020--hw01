{
 "cells": [
  {
   "cell_type": "code",
   "execution_count": 15,
   "metadata": {},
   "outputs": [],
   "source": [
    "import os\n",
    "import pandas as pd"
   ]
  },
  {
   "cell_type": "code",
   "execution_count": 17,
   "metadata": {},
   "outputs": [
    {
     "name": "stdout",
     "output_type": "stream",
     "text": [
      "/Users/donghaoyang/Projects/Jupyter/TUD/GEO_1001/hw01\n"
     ]
    }
   ],
   "source": [
    "print (os.getcwd())"
   ]
  },
  {
   "cell_type": "code",
   "execution_count": 45,
   "metadata": {},
   "outputs": [],
   "source": [
    "file_dir = 'hw01_data'"
   ]
  },
  {
   "cell_type": "code",
   "execution_count": 46,
   "metadata": {},
   "outputs": [],
   "source": [
    "Heat_A_df = pd.read_excel(file_dir+'/'+'HEAT - A_final.xls', header=None)"
   ]
  },
  {
   "cell_type": "code",
   "execution_count": 47,
   "metadata": {
    "scrolled": true
   },
   "outputs": [
    {
     "name": "stdout",
     "output_type": "stream",
     "text": [
      "                       0                 1           2                3   \\\n",
      "0             Device Name    HEAT - 2520824         NaN              NaN   \n",
      "1            Device Model            5400CL         NaN              NaN   \n",
      "2           Serial Number           2520824         NaN              NaN   \n",
      "3     FORMATTED DATE-TIME  Direction ‚ True  Wind Speed  Crosswind Speed   \n",
      "4     YYYY-MM-DD HH:MM:SS               NaN         m/s              m/s   \n",
      "...                   ...               ...         ...              ...   \n",
      "2476  2020-07-14 07:40:00               140         0.8              0.5   \n",
      "2477  2020-07-14 08:00:00               144           0                0   \n",
      "2478  2020-07-14 08:20:00               141         1.3              0.8   \n",
      "2479  2020-07-14 08:40:00               160         1.9              0.7   \n",
      "2480  2020-07-14 09:00:00               146         1.7              0.9   \n",
      "\n",
      "                  4            5                  6           7   \\\n",
      "0                NaN          NaN                NaN         NaN   \n",
      "1                NaN          NaN                NaN         NaN   \n",
      "2                NaN          NaN                NaN         NaN   \n",
      "3     Headwind Speed  Temperature  Globe Temperature  Wind Chill   \n",
      "4                m/s          ¬∞C                ¬∞C         ¬∞C   \n",
      "...              ...          ...                ...         ...   \n",
      "2476            -0.7         17.2               17.1        17.2   \n",
      "2477               0         17.6               18.8        17.6   \n",
      "2478              -1         17.5               19.8        17.5   \n",
      "2479            -1.8         17.6               20.3        17.5   \n",
      "2480            -1.4         17.8               20.8        17.8   \n",
      "\n",
      "                     8                  9          10  \\\n",
      "0                   NaN                NaN        NaN   \n",
      "1                   NaN                NaN        NaN   \n",
      "2                   NaN                NaN        NaN   \n",
      "3     Relative Humidity  Heat Stress Index  Dew Point   \n",
      "4                     %                ¬∞C        ¬∞C   \n",
      "...                 ...                ...        ...   \n",
      "2476               95.4               17.7       16.5   \n",
      "2477               94.8               18.1       16.8   \n",
      "2478                 95                 18       16.7   \n",
      "2479                 96               18.1         17   \n",
      "2480               91.6               18.1       16.4   \n",
      "\n",
      "                                11                12                   13  \\\n",
      "0                              NaN               NaN                  NaN   \n",
      "1                              NaN               NaN                  NaN   \n",
      "2                              NaN               NaN                  NaN   \n",
      "3     Psychro Wet Bulb Temperature  Station Pressure  Barometric Pressure   \n",
      "4                              ¬∞C                mb                   mb   \n",
      "...                            ...               ...                  ...   \n",
      "2476                          16.8            1016.8               1016.7   \n",
      "2477                          17.1            1016.7               1016.7   \n",
      "2478                            17            1016.6               1016.5   \n",
      "2479                          17.2            1016.5               1016.5   \n",
      "2480                            17            1016.3               1016.2   \n",
      "\n",
      "            14                15                       16    17      18  \\\n",
      "0          NaN               NaN                      NaN   NaN     NaN   \n",
      "1          NaN               NaN                      NaN   NaN     NaN   \n",
      "2          NaN               NaN                      NaN   NaN     NaN   \n",
      "3     Altitude  Density Altitude  NA Wet Bulb Temperature  WBGT     TWL   \n",
      "4            m                 m                      ¬∞C   ¬∞C  w/m^2    \n",
      "...        ...               ...                      ...   ...     ...   \n",
      "2476       -32               116                     16.7  16.8   273.3   \n",
      "2477       -31               132                     16.7  17.2     320   \n",
      "2478       -29               130                     16.9  17.6     320   \n",
      "2479       -29               135                     17.1  17.8     320   \n",
      "2480       -28               144                     16.7  17.6     320   \n",
      "\n",
      "                   19  \n",
      "0                 NaN  \n",
      "1                 NaN  \n",
      "2                 NaN  \n",
      "3     Direction ‚ Mag  \n",
      "4                  ¬∞  \n",
      "...               ...  \n",
      "2476              140  \n",
      "2477              144  \n",
      "2478              140  \n",
      "2479              160  \n",
      "2480              146  \n",
      "\n",
      "[2481 rows x 20 columns]\n"
     ]
    }
   ],
   "source": [
    "print(Heat_A_df)"
   ]
  },
  {
   "cell_type": "code",
   "execution_count": 48,
   "metadata": {
    "scrolled": true
   },
   "outputs": [
    {
     "name": "stdout",
     "output_type": "stream",
     "text": [
      "                       0    1    2    3     4     5     6     7     8     9   \\\n",
      "5     2020-06-10 00:00:00  327  0.7  0.4   0.6   9.9   8.3   9.8  69.9   9.4   \n",
      "6     2020-06-10 00:20:00  323  0.7  0.4   0.6   9.8   7.8   9.7  70.9   9.3   \n",
      "7     2020-06-10 00:40:00  325    0    0     0   9.3   7.7   9.2  73.5   8.9   \n",
      "8     2020-06-10 01:00:00  322  0.6  0.4   0.5     9   7.2     9  75.6   8.8   \n",
      "9     2020-06-10 01:20:00  321  0.7  0.4   0.5   9.4   7.3   9.4  74.9   9.1   \n",
      "...                   ...  ...  ...  ...   ...   ...   ...   ...   ...   ...   \n",
      "2476  2020-07-14 07:40:00  140  0.8  0.5  -0.7  17.2  17.1  17.2  95.4  17.7   \n",
      "2477  2020-07-14 08:00:00  144    0    0     0  17.6  18.8  17.6  94.8  18.1   \n",
      "2478  2020-07-14 08:20:00  141  1.3  0.8    -1  17.5  19.8  17.5    95    18   \n",
      "2479  2020-07-14 08:40:00  160  1.9  0.7  -1.8  17.6  20.3  17.5    96  18.1   \n",
      "2480  2020-07-14 09:00:00  146  1.7  0.9  -1.4  17.8  20.8  17.8  91.6  18.1   \n",
      "\n",
      "        10    11      12      13   14    15    16    17     18   19  \n",
      "5      4.6   7.3    1021    1021  -66  -234   7.5   7.9    320  327  \n",
      "6      4.7   7.2  1020.8  1020.7  -64  -235   7.2   7.6    320  322  \n",
      "7      4.8   7.1  1020.6  1020.5  -63  -251   7.3   7.6    320  325  \n",
      "8      4.9     7  1020.5  1020.5  -62  -260   6.9   7.2    320  321  \n",
      "9      5.2   7.2  1020.2  1020.2  -60  -240   6.9   7.2    320  320  \n",
      "...    ...   ...     ...     ...  ...   ...   ...   ...    ...  ...  \n",
      "2476  16.5  16.8  1016.8  1016.7  -32   116  16.7  16.8  273.3  140  \n",
      "2477  16.8  17.1  1016.7  1016.7  -31   132  16.7  17.2    320  144  \n",
      "2478  16.7    17  1016.6  1016.5  -29   130  16.9  17.6    320  140  \n",
      "2479    17  17.2  1016.5  1016.5  -29   135  17.1  17.8    320  160  \n",
      "2480  16.4    17  1016.3  1016.2  -28   144  16.7  17.6    320  146  \n",
      "\n",
      "[2476 rows x 20 columns]\n"
     ]
    }
   ],
   "source": [
    "Heat_A_df = Heat_A_df.drop([0, 1, 2, 3, 4])\n",
    "print(Heat_A_df)"
   ]
  },
  {
   "cell_type": "code",
   "execution_count": 52,
   "metadata": {},
   "outputs": [
    {
     "name": "stdout",
     "output_type": "stream",
     "text": [
      "['FORMATTED DATE-TIME', 'Direction_True', 'Wind Speed', 'Crosswind Speed', 'Headwind Speed', 'Temperature', 'Globe Temperature', 'Wind Chill', 'Relative Humidity', 'Heat Stress Index', 'Dew Point', 'Psychro Wet Bulb Temperature', 'Station Pressure', 'Barometric Pressure', 'Altitude', 'Density Altitude', 'NA Wet Bulb Temperature', 'WBGT', 'TWL ', 'Direction_Mag']\n"
     ]
    }
   ],
   "source": [
    "Column_name = open(file_dir+'/'+'Column_name.txt')\n",
    "Column_name_list = []\n",
    "line  = Column_name.readline().strip('\\n')\n",
    "while line:\n",
    "    Column_name_list.append(line)\n",
    "    line = Column_name.readline().strip('\\n')\n",
    "print(Column_name_list)"
   ]
  },
  {
   "cell_type": "code",
   "execution_count": 53,
   "metadata": {},
   "outputs": [],
   "source": [
    "Heat_A_df.columns=Column_name_list"
   ]
  },
  {
   "cell_type": "code",
   "execution_count": 55,
   "metadata": {
    "scrolled": true
   },
   "outputs": [
    {
     "name": "stdout",
     "output_type": "stream",
     "text": [
      "      FORMATTED DATE-TIME Direction_True Wind Speed Crosswind Speed  \\\n",
      "5     2020-06-10 00:00:00            327        0.7             0.4   \n",
      "6     2020-06-10 00:20:00            323        0.7             0.4   \n",
      "7     2020-06-10 00:40:00            325          0               0   \n",
      "8     2020-06-10 01:00:00            322        0.6             0.4   \n",
      "9     2020-06-10 01:20:00            321        0.7             0.4   \n",
      "...                   ...            ...        ...             ...   \n",
      "2476  2020-07-14 07:40:00            140        0.8             0.5   \n",
      "2477  2020-07-14 08:00:00            144          0               0   \n",
      "2478  2020-07-14 08:20:00            141        1.3             0.8   \n",
      "2479  2020-07-14 08:40:00            160        1.9             0.7   \n",
      "2480  2020-07-14 09:00:00            146        1.7             0.9   \n",
      "\n",
      "     Headwind Speed Temperature Globe Temperature Wind Chill  \\\n",
      "5               0.6         9.9               8.3        9.8   \n",
      "6               0.6         9.8               7.8        9.7   \n",
      "7                 0         9.3               7.7        9.2   \n",
      "8               0.5           9               7.2          9   \n",
      "9               0.5         9.4               7.3        9.4   \n",
      "...             ...         ...               ...        ...   \n",
      "2476           -0.7        17.2              17.1       17.2   \n",
      "2477              0        17.6              18.8       17.6   \n",
      "2478             -1        17.5              19.8       17.5   \n",
      "2479           -1.8        17.6              20.3       17.5   \n",
      "2480           -1.4        17.8              20.8       17.8   \n",
      "\n",
      "     Relative Humidity Heat Stress Index Dew Point  \\\n",
      "5                 69.9               9.4       4.6   \n",
      "6                 70.9               9.3       4.7   \n",
      "7                 73.5               8.9       4.8   \n",
      "8                 75.6               8.8       4.9   \n",
      "9                 74.9               9.1       5.2   \n",
      "...                ...               ...       ...   \n",
      "2476              95.4              17.7      16.5   \n",
      "2477              94.8              18.1      16.8   \n",
      "2478                95                18      16.7   \n",
      "2479                96              18.1        17   \n",
      "2480              91.6              18.1      16.4   \n",
      "\n",
      "     Psychro Wet Bulb Temperature Station Pressure Barometric Pressure  \\\n",
      "5                             7.3             1021                1021   \n",
      "6                             7.2           1020.8              1020.7   \n",
      "7                             7.1           1020.6              1020.5   \n",
      "8                               7           1020.5              1020.5   \n",
      "9                             7.2           1020.2              1020.2   \n",
      "...                           ...              ...                 ...   \n",
      "2476                         16.8           1016.8              1016.7   \n",
      "2477                         17.1           1016.7              1016.7   \n",
      "2478                           17           1016.6              1016.5   \n",
      "2479                         17.2           1016.5              1016.5   \n",
      "2480                           17           1016.3              1016.2   \n",
      "\n",
      "     Altitude Density Altitude NA Wet Bulb Temperature  WBGT   TWL   \\\n",
      "5         -66             -234                     7.5   7.9    320   \n",
      "6         -64             -235                     7.2   7.6    320   \n",
      "7         -63             -251                     7.3   7.6    320   \n",
      "8         -62             -260                     6.9   7.2    320   \n",
      "9         -60             -240                     6.9   7.2    320   \n",
      "...       ...              ...                     ...   ...    ...   \n",
      "2476      -32              116                    16.7  16.8  273.3   \n",
      "2477      -31              132                    16.7  17.2    320   \n",
      "2478      -29              130                    16.9  17.6    320   \n",
      "2479      -29              135                    17.1  17.8    320   \n",
      "2480      -28              144                    16.7  17.6    320   \n",
      "\n",
      "     Direction_Mag  \n",
      "5              327  \n",
      "6              322  \n",
      "7              325  \n",
      "8              321  \n",
      "9              320  \n",
      "...            ...  \n",
      "2476           140  \n",
      "2477           144  \n",
      "2478           140  \n",
      "2479           160  \n",
      "2480           146  \n",
      "\n",
      "[2476 rows x 20 columns]\n"
     ]
    }
   ],
   "source": [
    "print(Heat_A_df)"
   ]
  }
 ],
 "metadata": {
  "kernelspec": {
   "display_name": "Python 3",
   "language": "python",
   "name": "python3"
  },
  "language_info": {
   "codemirror_mode": {
    "name": "ipython",
    "version": 3
   },
   "file_extension": ".py",
   "mimetype": "text/x-python",
   "name": "python",
   "nbconvert_exporter": "python",
   "pygments_lexer": "ipython3",
   "version": "3.7.4"
  }
 },
 "nbformat": 4,
 "nbformat_minor": 4
}
