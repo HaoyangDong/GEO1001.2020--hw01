{
 "cells": [
  {
   "cell_type": "code",
   "execution_count": 1,
   "metadata": {},
   "outputs": [],
   "source": [
    "import pandas as pd\n",
    "import numpy as np\n",
    "import Hw_Functions\n",
    "import matplotlib.pyplot as plt\n",
    "import matplotlib\n",
    "import math\n"
   ]
  },
  {
   "cell_type": "code",
   "execution_count": 2,
   "metadata": {},
   "outputs": [],
   "source": [
    "file_dir = 'hw01_data'"
   ]
  },
  {
   "cell_type": "code",
   "execution_count": 3,
   "metadata": {
    "scrolled": true
   },
   "outputs": [],
   "source": [
    "names = locals()\n",
    "for i in ['A', 'B', 'C', 'D', 'E']:\n",
    "    names['file_'+i] = file_dir+'/'+'HEAT - '+i+'_final.xls'\n",
    "    names['HEAT_'+i+'_df'] = Hw_Functions.Load_HEAT(names.get('file_'+i))\n",
    "# print(HEAT_B_df)"
   ]
  },
  {
   "cell_type": "code",
   "execution_count": 4,
   "metadata": {
    "scrolled": false
   },
   "outputs": [],
   "source": [
    "mean_list_A, var_list_A, std_list_A = Hw_Functions.HEAT_mean_var_std(HEAT_A_df)\n",
    "# print(mean_list_A,'\\n',var_list_A, '\\n', std_list_A)"
   ]
  },
  {
   "cell_type": "code",
   "execution_count": 5,
   "metadata": {
    "scrolled": true
   },
   "outputs": [],
   "source": [
    "for ii in ['A', 'B', 'C', 'D', 'E']:\n",
    "    names['mean_list_'+ii], names['var_list_'+ii], names['std_list_'+ii] = Hw_Functions.HEAT_mean_var_std(names.get('HEAT_'+ii+'_df'))\n",
    "#     names.get('mean_list_'+ii), names.get('var_list_'+ii), names.get('std_list_'+ii) = "
   ]
  },
  {
   "cell_type": "code",
   "execution_count": 10,
   "metadata": {
    "scrolled": false
   },
   "outputs": [
    {
     "name": "stdout",
     "output_type": "stream",
     "text": [
      "The mean of True Direction in HEAT - A is 209.40630048465266, The variance of True Direction in HEAT - A is 10104.857537040565, The standard deviation of True Direction in HEAT - A is 100.52292045618535. \n",
      "The mean of True Direction in HEAT - B is 183.41235864297255, The variance of True Direction in HEAT - B is 9973.18819944488, The standard deviation of True Direction in HEAT - B is 99.86585101747684. \n",
      "The mean of True Direction in HEAT - C is 183.58892481810832, The variance of True Direction in HEAT - C is 7700.24936804366, The standard deviation of True Direction in HEAT - C is 87.75106476871754. \n",
      "The mean of True Direction in HEAT - D is 198.32659660468877, The variance of True Direction in HEAT - D is 8130.602307980361, The standard deviation of True Direction in HEAT - D is 90.16985254496295. \n",
      "The mean of True Direction in HEAT - E is 223.95636363636365, The variance of True Direction in HEAT - E is 9304.524156473828, The standard deviation of True Direction in HEAT - E is 96.459961416506. \n",
      "\n",
      "\n",
      "The mean of Wind Speed in HEAT - A is 1.290306946688207, The variance of Wind Speed in HEAT - A is 1.2506491788047323, The standard deviation of Wind Speed in HEAT - A is 1.1183242726529423. \n",
      "The mean of Wind Speed in HEAT - B is 1.242124394184168, The variance of Wind Speed in HEAT - B is 1.300975939291838, The standard deviation of Wind Speed in HEAT - B is 1.1406033224972818. \n",
      "The mean of Wind Speed in HEAT - C is 1.3714632174616006, The variance of Wind Speed in HEAT - C is 1.4303416746777642, The standard deviation of Wind Speed in HEAT - C is 1.1959689271372247. \n",
      "The mean of Wind Speed in HEAT - D is 1.5816491511721908, The variance of Wind Speed in HEAT - D is 1.739113529289902, The standard deviation of Wind Speed in HEAT - D is 1.3187545371637217. \n",
      "The mean of Wind Speed in HEAT - E is 0.5962424242424242, The variance of Wind Speed in HEAT - E is 0.5110202240587696, The standard deviation of Wind Speed in HEAT - E is 0.7148567856982051. \n",
      "\n",
      "\n",
      "The mean of Crosswind Speed in HEAT - A is 0.9649434571890144, The variance of Crosswind Speed in HEAT - A is 0.9262185347673694, The standard deviation of Crosswind Speed in HEAT - A is 0.9624024806531669. \n",
      "The mean of Crosswind Speed in HEAT - B is 0.8356219709208401, The variance of Crosswind Speed in HEAT - B is 0.8782302674332721, The standard deviation of Crosswind Speed in HEAT - B is 0.9371394066163647. \n",
      "The mean of Crosswind Speed in HEAT - C is 0.9632983023443816, The variance of Crosswind Speed in HEAT - C is 1.0421533895929145, The standard deviation of Crosswind Speed in HEAT - C is 1.0208591428757028. \n",
      "The mean of Crosswind Speed in HEAT - D is 1.2105092966855295, The variance of Crosswind Speed in HEAT - D is 1.450916232128608, The standard deviation of Crosswind Speed in HEAT - D is 1.2045398424828495. \n",
      "The mean of Crosswind Speed in HEAT - E is 0.4385050505050505, The variance of Crosswind Speed in HEAT - E is 0.3158143307825732, The standard deviation of Crosswind Speed in HEAT - E is 0.5619736032791693. \n",
      "\n",
      "\n",
      "The mean of Headwind Speed in HEAT - A is 0.16352988691437803, The variance of Headwind Speed in HEAT - A is 1.034522111788517, The standard deviation of Headwind Speed in HEAT - A is 1.0171146011087036. \n",
      "The mean of Headwind Speed in HEAT - B is -0.12980613893376414, The variance of Headwind Speed in HEAT - B is 1.25621175563275, The standard deviation of Headwind Speed in HEAT - B is 1.1208085276409838. \n",
      "The mean of Headwind Speed in HEAT - C is -0.2628940986257074, The variance of Headwind Speed in HEAT - C is 1.2712181399570899, The standard deviation of Headwind Speed in HEAT - C is 1.1274830996325798. \n",
      "The mean of Headwind Speed in HEAT - D is -0.3005658852061439, The variance of Headwind Speed in HEAT - D is 1.2320045302185576, The standard deviation of Headwind Speed in HEAT - D is 1.109956994760859. \n",
      "The mean of Headwind Speed in HEAT - E is 0.19494949494949496, The variance of Headwind Speed in HEAT - E is 0.3189441893684318, The standard deviation of Headwind Speed in HEAT - E is 0.5647514403420604. \n",
      "\n",
      "\n",
      "The mean of Temperature in HEAT - A is 17.96910339256866, The variance of Temperature in HEAT - A is 15.857862039390751, The standard deviation of Temperature in HEAT - A is 3.9821931192988056. \n",
      "The mean of Temperature in HEAT - B is 18.065428109854604, The variance of Temperature in HEAT - B is 16.622350826415005, The standard deviation of Temperature in HEAT - B is 4.077051732123962. \n",
      "The mean of Temperature in HEAT - C is 17.91313662085691, The variance of Temperature in HEAT - C is 16.09802872264436, The standard deviation of Temperature in HEAT - C is 4.012234878798145. \n",
      "The mean of Temperature in HEAT - D is 17.99636216653193, The variance of Temperature in HEAT - D is 16.099081349837828, The standard deviation of Temperature in HEAT - D is 4.012366053818847. \n",
      "The mean of Temperature in HEAT - E is 18.353939393939395, The variance of Temperature in HEAT - E is 19.035438016528925, The standard deviation of Temperature in HEAT - E is 4.362962069114161. \n",
      "\n",
      "\n",
      "The mean of Globe Temperature in HEAT - A is 21.544588045234246, The variance of Globe Temperature in HEAT - A is 68.1638115831204, The standard deviation of Globe Temperature in HEAT - A is 8.256137812750003. \n",
      "The mean of Globe Temperature in HEAT - B is 21.799434571890146, The variance of Globe Temperature in HEAT - B is 66.02264103731852, The standard deviation of Globe Temperature in HEAT - B is 8.125431744671696. \n",
      "The mean of Globe Temperature in HEAT - C is 21.587388843977365, The variance of Globe Temperature in HEAT - C is 67.91384257555865, The standard deviation of Globe Temperature in HEAT - C is 8.240985534240346. \n",
      "The mean of Globe Temperature in HEAT - D is 21.359296685529507, The variance of Globe Temperature in HEAT - D is 61.17751462256783, The standard deviation of Globe Temperature in HEAT - D is 7.821605629445135. \n",
      "The mean of Globe Temperature in HEAT - E is 21.176161616161615, The variance of Globe Temperature in HEAT - E is 63.18996102438527, The standard deviation of Globe Temperature in HEAT - E is 7.949211346063537. \n",
      "\n",
      "\n",
      "The mean of Wind Chill in HEAT - A is 17.838206785137317, The variance of Wind Chill in HEAT - A is 16.257877882926497, The standard deviation of Wind Chill in HEAT - A is 4.032105886869354. \n",
      "The mean of Wind Chill in HEAT - B is 17.945920840064623, The variance of Wind Chill in HEAT - B is 17.028945395995418, The standard deviation of Wind Chill in HEAT - B is 4.126614277588277. \n",
      "The mean of Wind Chill in HEAT - C is 17.77299919159256, The variance of Wind Chill in HEAT - C is 16.53443667987, The standard deviation of Wind Chill in HEAT - C is 4.0662558551903745. \n",
      "The mean of Wind Chill in HEAT - D is 17.835367825383994, The variance of Wind Chill in HEAT - D is 16.55015978790578, The standard deviation of Wind Chill in HEAT - D is 4.068188760112513. \n",
      "The mean of Wind Chill in HEAT - E is 18.2940202020202, The variance of Wind Chill in HEAT - E is 19.129329898581776, The standard deviation of Wind Chill in HEAT - E is 4.373708940771182. \n",
      "\n",
      "\n",
      "The mean of Relative Humidity in HEAT - A is 78.18477382875606, The variance of Relative Humidity in HEAT - A is 375.8581970813183, The standard deviation of Relative Humidity in HEAT - A is 19.387062621277064. \n",
      "The mean of Relative Humidity in HEAT - B is 77.87831179321486, The variance of Relative Humidity in HEAT - B is 408.4579746943844, The standard deviation of Relative Humidity in HEAT - B is 20.21034326018201. \n",
      "The mean of Relative Humidity in HEAT - C is 77.96285367825384, The variance of Relative Humidity in HEAT - C is 374.47121918069183, The standard deviation of Relative Humidity in HEAT - C is 19.35125885260935. \n",
      "The mean of Relative Humidity in HEAT - D is 77.94203718674213, The variance of Relative Humidity in HEAT - D is 389.6984592290132, The standard deviation of Relative Humidity in HEAT - D is 19.740781626597595. \n",
      "The mean of Relative Humidity in HEAT - E is 76.7930505050505, The variance of Relative Humidity in HEAT - E is 406.3302224115906, The standard deviation of Relative Humidity in HEAT - E is 20.157634345616813. \n",
      "\n",
      "\n",
      "The mean of Heat Stress Index in HEAT - A is 17.899596122778675, The variance of Heat Stress Index in HEAT - A is 14.990791436236988, The standard deviation of Heat Stress Index in HEAT - A is 3.8717943432260173. \n",
      "The mean of Heat Stress Index in HEAT - B is 18.00428109854604, The variance of Heat Stress Index in HEAT - B is 15.432921898366484, The standard deviation of Heat Stress Index in HEAT - B is 3.928475772913266. \n",
      "The mean of Heat Stress Index in HEAT - C is 17.82825383993533, The variance of Heat Stress Index in HEAT - C is 15.350046506300938, The standard deviation of Heat Stress Index in HEAT - C is 3.917913539921592. \n",
      "The mean of Heat Stress Index in HEAT - D is 17.92162489894907, The variance of Heat Stress Index in HEAT - D is 15.11153317215288, The standard deviation of Heat Stress Index in HEAT - D is 3.887355550004769. \n",
      "The mean of Heat Stress Index in HEAT - E is 18.286424242424246, The variance of Heat Stress Index in HEAT - E is 18.46777529476584, The standard deviation of Heat Stress Index in HEAT - E is 4.297414954919509. \n",
      "\n",
      "\n",
      "The mean of Dew Point in HEAT - A is 13.553877221324719, The variance of Dew Point in HEAT - A is 9.719544740983556, The standard deviation of Dew Point in HEAT - A is 3.1176184405702307. \n",
      "The mean of Dew Point in HEAT - B is 13.530856219709205, The variance of Dew Point in HEAT - B is 9.632626245886195, The standard deviation of Dew Point in HEAT - B is 3.103647248945375. \n",
      "The mean of Dew Point in HEAT - C is 13.458124494745352, The variance of Dew Point in HEAT - C is 10.080073442868077, The standard deviation of Dew Point in HEAT - C is 3.174913139420995. \n",
      "The mean of Dew Point in HEAT - D is 13.50860953920776, The variance of Dew Point in HEAT - D is 10.067811890385965, The standard deviation of Dew Point in HEAT - D is 3.172981545862813. \n",
      "The mean of Dew Point in HEAT - E is 13.558787878787879, The variance of Dew Point in HEAT - E is 9.418778328741965, The standard deviation of Dew Point in HEAT - E is 3.0690028231889857. \n",
      "\n",
      "\n",
      "The mean of Psychro Wet Bulb Temperature in HEAT - A is 15.270718901453955, The variance of Psychro Wet Bulb Temperature in HEAT - A is 6.9412225849577585, The standard deviation of Psychro Wet Bulb Temperature in HEAT - A is 2.6346200076970794. \n",
      "The mean of Psychro Wet Bulb Temperature in HEAT - B is 15.295516962843294, The variance of Psychro Wet Bulb Temperature in HEAT - B is 6.767528367644411, The standard deviation of Psychro Wet Bulb Temperature in HEAT - B is 2.6014473601525. \n",
      "The mean of Psychro Wet Bulb Temperature in HEAT - C is 15.196645109135003, The variance of Psychro Wet Bulb Temperature in HEAT - C is 7.236387289573896, The standard deviation of Psychro Wet Bulb Temperature in HEAT - C is 2.690053399019041. \n",
      "The mean of Psychro Wet Bulb Temperature in HEAT - D is 15.26018593371059, The variance of Psychro Wet Bulb Temperature in HEAT - D is 7.041555503019602, The standard deviation of Psychro Wet Bulb Temperature in HEAT - D is 2.6535929422237317. \n",
      "The mean of Psychro Wet Bulb Temperature in HEAT - E is 15.406666666666666, The variance of Psychro Wet Bulb Temperature in HEAT - E is 6.994618181818182, The standard deviation of Psychro Wet Bulb Temperature in HEAT - E is 2.6447340474645427. \n",
      "\n",
      "\n",
      "The mean of Station Pressure in HEAT - A is 1016.1682552504037, The variance of Station Pressure in HEAT - A is 38.45572894292478, The standard deviation of Station Pressure in HEAT - A is 6.201268333407673. \n",
      "The mean of Station Pressure in HEAT - B is 1016.6570274636512, The variance of Station Pressure in HEAT - B is 36.82705481507772, The standard deviation of Station Pressure in HEAT - B is 6.068529872636183. \n",
      "The mean of Station Pressure in HEAT - C is 1016.689329021827, The variance of Station Pressure in HEAT - C is 37.67625638083111, The standard deviation of Station Pressure in HEAT - C is 6.13809875945566. \n",
      "The mean of Station Pressure in HEAT - D is 1016.7280113177042, The variance of Station Pressure in HEAT - D is 34.973641396799955, The standard deviation of Station Pressure in HEAT - D is 5.913851654953813. \n",
      "The mean of Station Pressure in HEAT - E is 1016.1661010101009, The variance of Station Pressure in HEAT - E is 38.92418015141312, The standard deviation of Station Pressure in HEAT - E is 6.23892459895238. \n",
      "\n",
      "\n",
      "The mean of Barometric Pressure in HEAT - A is 1016.1284329563813, The variance of Barometric Pressure in HEAT - A is 38.4524145072175, The standard deviation of Barometric Pressure in HEAT - A is 6.201001089115974. \n",
      "The mean of Barometric Pressure in HEAT - B is 1016.6164781906298, The variance of Barometric Pressure in HEAT - B is 36.81399341269066, The standard deviation of Barometric Pressure in HEAT - B is 6.067453618503454. \n",
      "The mean of Barometric Pressure in HEAT - C is 1016.6518997574777, The variance of Barometric Pressure in HEAT - C is 37.660394531584316, The standard deviation of Barometric Pressure in HEAT - C is 6.136806541808558. \n",
      "The mean of Barometric Pressure in HEAT - D is 1016.6888843977364, The variance of Barometric Pressure in HEAT - D is 34.938198997953734, The standard deviation of Barometric Pressure in HEAT - D is 5.910854337399437. \n",
      "The mean of Barometric Pressure in HEAT - E is 1016.127797979798, The variance of Barometric Pressure in HEAT - E is 38.91944545413724, The standard deviation of Barometric Pressure in HEAT - E is 6.238545139224148. \n",
      "\n",
      "\n",
      "The mean of Altitude in HEAT - A is -25.98707592891761, The variance of Altitude in HEAT - A is 2662.5652610782413, The standard deviation of Altitude in HEAT - A is 51.60005097941514. \n",
      "The mean of Altitude in HEAT - B is -30.05815831987076, The variance of Altitude in HEAT - B is 2544.679977868311, The standard deviation of Altitude in HEAT - B is 50.444821120391644. \n",
      "The mean of Altitude in HEAT - C is -30.338722716248988, The variance of Altitude in HEAT - C is 2607.4802547953855, The standard deviation of Altitude in HEAT - C is 51.063492387373834. \n",
      "The mean of Altitude in HEAT - D is -30.653193209377527, The variance of Altitude in HEAT - D is 2418.745529415378, The standard deviation of Altitude in HEAT - D is 49.18074348172644. \n",
      "The mean of Altitude in HEAT - E is -25.96121212121212, The variance of Altitude in HEAT - E is 2691.26556620753, The standard deviation of Altitude in HEAT - E is 51.877409015943826. \n",
      "\n",
      "\n",
      "The mean of Density Altitude in HEAT - A is 137.31663974151857, The variance of Density Altitude in HEAT - A is 26499.337542182006, The standard deviation of Density Altitude in HEAT - A is 162.7861712252672. \n",
      "The mean of Density Altitude in HEAT - B is 135.58077544426493, The variance of Density Altitude in HEAT - B is 26852.460761272676, The standard deviation of Density Altitude in HEAT - B is 163.86720465447831. \n",
      "The mean of Density Altitude in HEAT - C is 129.62287793047696, The variance of Density Altitude in HEAT - C is 26975.694884846056, The standard deviation of Density Altitude in HEAT - C is 164.2427924897956. \n",
      "The mean of Density Altitude in HEAT - D is 132.41107518189168, The variance of Density Altitude in HEAT - D is 26505.40781590138, The standard deviation of Density Altitude in HEAT - D is 162.80481508819506. \n",
      "The mean of Density Altitude in HEAT - E is 150.84, The variance of Density Altitude in HEAT - E is 29702.92147070707, The standard deviation of Density Altitude in HEAT - E is 172.3453552339229. \n",
      "\n",
      "\n",
      "The mean of NA Wet Bulb Temperature in HEAT - A is 15.981542810985461, The variance of NA Wet Bulb Temperature in HEAT - A is 10.008064017149449, The standard deviation of NA Wet Bulb Temperature in HEAT - A is 3.1635524362889025. \n",
      "The mean of NA Wet Bulb Temperature in HEAT - B is 15.996809369951535, The variance of NA Wet Bulb Temperature in HEAT - B is 9.805292727795887, The standard deviation of NA Wet Bulb Temperature in HEAT - B is 3.131340404331009. \n",
      "The mean of NA Wet Bulb Temperature in HEAT - C is 15.934236054971707, The variance of NA Wet Bulb Temperature in HEAT - C is 10.476042928918309, The standard deviation of NA Wet Bulb Temperature in HEAT - C is 3.2366715818751692. \n",
      "The mean of NA Wet Bulb Temperature in HEAT - D is 15.915642683912694, The variance of NA Wet Bulb Temperature in HEAT - D is 9.983397181945264, The standard deviation of NA Wet Bulb Temperature in HEAT - D is 3.1596514336149903. \n",
      "The mean of NA Wet Bulb Temperature in HEAT - E is 15.93688888888889, The variance of NA Wet Bulb Temperature in HEAT - E is 9.428372543209877, The standard deviation of NA Wet Bulb Temperature in HEAT - E is 3.0705655086986625. \n",
      "\n",
      "\n",
      "The mean of WBGT in HEAT - A is 17.25432148626817, The variance of WBGT in HEAT - A is 16.128741421686968, The standard deviation of WBGT in HEAT - A is 4.016060435512266. \n",
      "The mean of WBGT in HEAT - B is 17.321970920840062, The variance of WBGT in HEAT - B is 15.82895992807201, The standard deviation of WBGT in HEAT - B is 3.978562545451813. \n",
      "The mean of WBGT in HEAT - C is 17.22502021018593, The variance of WBGT in HEAT - C is 16.540057093366812, The standard deviation of WBGT in HEAT - C is 4.066946900731163. \n",
      "The mean of WBGT in HEAT - D is 17.1767987065481, The variance of WBGT in HEAT - D is 15.500916833369384, The standard deviation of WBGT in HEAT - D is 3.9371203732384643. \n",
      "The mean of WBGT in HEAT - E is 17.185535353535354, The variance of WBGT in HEAT - E is 15.483612996224876, The standard deviation of WBGT in HEAT - E is 3.934922235092439. \n",
      "\n",
      "\n",
      "The mean of TWL  in HEAT - A is 301.39293214862676, The variance of TWL  in HEAT - A is 814.4374985107435, The standard deviation of TWL  in HEAT - A is 28.538351362872092. \n",
      "The mean of TWL  in HEAT - B is 299.45169628432956, The variance of TWL  in HEAT - B is 789.7501304021025, The standard deviation of TWL  in HEAT - B is 28.102493312909132. \n",
      "The mean of TWL  in HEAT - C is 301.8997574777688, The variance of TWL  in HEAT - C is 766.2236781950229, The standard deviation of TWL  in HEAT - C is 27.68074562209304. \n",
      "The mean of TWL  in HEAT - D is 305.254567502021, The variance of TWL  in HEAT - D is 615.7608138186043, The standard deviation of TWL  in HEAT - D is 24.814528281202612. \n",
      "The mean of TWL  in HEAT - E is 284.11531313131314, The variance of TWL  in HEAT - E is 1289.3922059120498, The standard deviation of TWL  in HEAT - E is 35.908107801888555. \n",
      "\n",
      "\n",
      "The mean of Mag Direction in HEAT - A is 208.90508885298868, The variance of Mag Direction in HEAT - A is 10101.595596074496, The standard deviation of Mag Direction in HEAT - A is 100.50669428488082. \n",
      "The mean of Mag Direction in HEAT - B is 183.2172859450727, The variance of Mag Direction in HEAT - B is 9971.418053377041, The standard deviation of Mag Direction in HEAT - B is 99.85698800473125. \n",
      "The mean of Mag Direction in HEAT - C is 183.08367016976555, The variance of Mag Direction in HEAT - C is 7701.505933821689, The standard deviation of Mag Direction in HEAT - C is 87.75822430873183. \n",
      "The mean of Mag Direction in HEAT - D is 197.8261924009701, The variance of Mag Direction in HEAT - D is 8132.027187846571, The standard deviation of Mag Direction in HEAT - D is 90.17775328675344. \n",
      "The mean of Mag Direction in HEAT - E is 223.89656565656566, The variance of Mag Direction in HEAT - E is 9264.263240730537, The standard deviation of Mag Direction in HEAT - E is 96.25104280334077. \n",
      "\n",
      "\n"
     ]
    }
   ],
   "source": [
    "Column_name_list = ['True Direction', 'Wind Speed', 'Crosswind Speed', 'Headwind Speed', 'Temperature', 'Globe Temperature', 'Wind Chill', 'Relative Humidity', 'Heat Stress Index', 'Dew Point', 'Psychro Wet Bulb Temperature', 'Station Pressure', 'Barometric Pressure', 'Altitude', 'Density Altitude', 'NA Wet Bulb Temperature', 'WBGT', 'TWL ', 'Mag Direction']\n",
    "for iii in range(len(mean_list_A)):\n",
    "    for j in ['A', 'B', 'C', 'D', 'E']:\n",
    "        print('The mean of {name} in {order} is {value}, '.format(name=Column_name_list[iii], order = 'HEAT - '+j, value = names.get('mean_list_'+j)[iii]), end='')\n",
    "        print('The variance of {name} in {order} is {value}, '.format(name=Column_name_list[iii], order = 'HEAT - '+j, value = names.get('var_list_'+j)[iii]), end='')\n",
    "        print('The standard deviation of {name} in {order} is {value}. '.format(name=Column_name_list[iii], order = 'HEAT - '+j, value = names.get('std_list_'+j)[iii]))\n",
    "    print('\\n')\n",
    "\n",
    "        "
   ]
  }
 ],
 "metadata": {
  "kernelspec": {
   "display_name": "Python 3",
   "language": "python",
   "name": "python3"
  },
  "language_info": {
   "codemirror_mode": {
    "name": "ipython",
    "version": 3
   },
   "file_extension": ".py",
   "mimetype": "text/x-python",
   "name": "python",
   "nbconvert_exporter": "python",
   "pygments_lexer": "ipython3",
   "version": "3.7.4"
  }
 },
 "nbformat": 4,
 "nbformat_minor": 4
}
